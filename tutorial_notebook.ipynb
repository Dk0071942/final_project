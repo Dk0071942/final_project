{
 "cells": [
  {
   "cell_type": "code",
   "execution_count": 4,
   "metadata": {},
   "outputs": [
    {
     "name": "stdout",
     "output_type": "stream",
     "text": [
      "a/b/c\n",
      "/home/dk0071942/project/Final_package\n"
     ]
    },
    {
     "ename": "TypeError",
     "evalue": "'str' object is not callable",
     "output_type": "error",
     "traceback": [
      "\u001b[0;31m---------------------------------------------------------------------------\u001b[0m",
      "\u001b[0;31mTypeError\u001b[0m                                 Traceback (most recent call last)",
      "\u001b[1;32m/home/dk0071942/project/Final_package/tutorial_notebook.ipynb Cell 1'\u001b[0m in \u001b[0;36m<cell line: 14>\u001b[0;34m()\u001b[0m\n\u001b[1;32m     <a href='vscode-notebook-cell:/home/dk0071942/project/Final_package/tutorial_notebook.ipynb#ch0000000?line=11'>12</a>\u001b[0m cwd \u001b[39m=\u001b[39m os\u001b[39m.\u001b[39mgetcwd()\n\u001b[1;32m     <a href='vscode-notebook-cell:/home/dk0071942/project/Final_package/tutorial_notebook.ipynb#ch0000000?line=12'>13</a>\u001b[0m \u001b[39mprint\u001b[39m(cwd)\n\u001b[0;32m---> <a href='vscode-notebook-cell:/home/dk0071942/project/Final_package/tutorial_notebook.ipynb#ch0000000?line=13'>14</a>\u001b[0m \u001b[39mprint\u001b[39m(osp\u001b[39m.\u001b[39;49mcurdir(cwd))\n",
      "\u001b[0;31mTypeError\u001b[0m: 'str' object is not callable"
     ]
    }
   ],
   "source": [
    "import os\n",
    "import os.path as osp\n",
    "\n",
    "joined_path = osp.join('a', 'b', 'c')\n",
    "### output: a/b/c\n",
    "print(joined_path)\n",
    "\n",
    "### doesn't work in Jupyter notebook\n",
    "# current_file_location = osp.dirname(osp.realpath(__file__))\n",
    "# print(current_file_location)\n",
    "\n",
    "cwd = os.getcwd()\n",
    "print(cwd)\n"
   ]
  },
  {
   "cell_type": "code",
   "execution_count": null,
   "metadata": {},
   "outputs": [],
   "source": []
  }
 ],
 "metadata": {
  "interpreter": {
   "hash": "78a9140aedb63e387efd5c63856e607098d7a66ff52de9a814a5c1994fff6972"
  },
  "kernelspec": {
   "display_name": "Python 3.9.12 ('gsn')",
   "language": "python",
   "name": "python3"
  },
  "language_info": {
   "codemirror_mode": {
    "name": "ipython",
    "version": 3
   },
   "file_extension": ".py",
   "mimetype": "text/x-python",
   "name": "python",
   "nbconvert_exporter": "python",
   "pygments_lexer": "ipython3",
   "version": "3.9.12"
  },
  "orig_nbformat": 4
 },
 "nbformat": 4,
 "nbformat_minor": 2
}
